{
 "cells": [
  {
   "cell_type": "code",
   "execution_count": 1,
   "metadata": {},
   "outputs": [
    {
     "name": "stderr",
     "output_type": "stream",
     "text": [
      "/tmp/ipykernel_94243/1153432990.py:19: DeprecationWarning: \n",
      "Pyarrow will become a required dependency of pandas in the next major release of pandas (pandas 3.0),\n",
      "(to allow more performant data types, such as the Arrow string type, and better interoperability with other libraries)\n",
      "but was not found to be installed on your system.\n",
      "If this would cause problems for you,\n",
      "please provide us feedback at https://github.com/pandas-dev/pandas/issues/54466\n",
      "        \n",
      "  import pandas as pd\n"
     ]
    }
   ],
   "source": [
    "# system level\n",
    "import os\n",
    "from os import path\n",
    "import sys\n",
    "\n",
    "\n",
    "# deep learning\n",
    "from scipy.stats import pearsonr, spearmanr\n",
    "import numpy as np\n",
    "import torch\n",
    "from torch import nn\n",
    "from torchvision import models,transforms\n",
    "import torch.optim as optim\n",
    "import wandb\n",
    "from sklearn.model_selection import GroupKFold\n",
    "\n",
    "# data \n",
    "import matplotlib.pyplot as plt\n",
    "import pandas as pd\n",
    "import cv2\n",
    "from torch.utils.data import DataLoader, TensorDataset\n",
    "\n",
    "device = torch.device('cuda' if torch.cuda.is_available() else 'cpu')\n",
    "\n",
    "# local\n",
    "from nerf_qa.DISTS_pytorch.DISTS_pt import DISTS, prepare_image"
   ]
  },
  {
   "cell_type": "code",
   "execution_count": 2,
   "metadata": {},
   "outputs": [],
   "source": [
    "DATA_DIR = \"/home/ccl/Datasets/NeRF-QA\"\n",
    "REF_DIR = path.join(DATA_DIR, \"Reference\")\n",
    "SYN_DIR = path.join(DATA_DIR, \"NeRF-QA_videos\")\n",
    "SCORE_FILE = path.join(DATA_DIR, \"NeRF_VQA_MOS.csv\")"
   ]
  },
  {
   "cell_type": "code",
   "execution_count": 3,
   "metadata": {},
   "outputs": [],
   "source": [
    "import torch\n",
    "import torch.nn as nn\n",
    "\n",
    "class VQAModel(nn.Module):\n",
    "    def __init__(self, dists_mean, dists_std):\n",
    "        super(VQAModel, self).__init__()\n",
    "        self.dists_model = DISTS()\n",
    "        # Initialize mean and std as trainable parameters\n",
    "        self.dists_mean = nn.Parameter(torch.tensor([dists_mean], dtype=torch.float32))\n",
    "        self.dists_std = nn.Parameter(torch.tensor([-dists_std], dtype=torch.float32))\n",
    "\n",
    "    def compute_dists_with_batches(self, ref_batches, dist_batches):\n",
    "        all_scores = []  # Collect scores from all batches as tensors\n",
    "\n",
    "        for ref_batch, dist_batch in zip(ref_batches, dist_batches):\n",
    "            ref_images = ref_batch[0].to(device)  # Assuming ref_batch[0] is the tensor of images\n",
    "            dist_images = dist_batch[0].to(device)  # Assuming dist_batch[0] is the tensor of images\n",
    "            scores = self.dists_model(ref_images, dist_images, require_grad=True, batch_average=False)  # Returns a tensor of scores\n",
    "            \n",
    "            # Collect scores tensors\n",
    "            all_scores.append(scores)\n",
    "\n",
    "        # Concatenate all score tensors into a single tensor\n",
    "        all_scores_tensor = torch.cat(all_scores, dim=0)\n",
    "\n",
    "        # Compute the average score across all batches\n",
    "        average_score = torch.mean(all_scores_tensor) if all_scores_tensor.numel() > 0 else torch.tensor(0.0).to(device)\n",
    "\n",
    "        return average_score\n",
    "        \n",
    "    def forward(self, ref_batches, dist_batches):\n",
    "        raw_scores = self.compute_dists_with_batches(ref_batches, dist_batches)\n",
    "        \n",
    "        # Normalize raw scores using the trainable mean and std\n",
    "        normalized_scores = (raw_scores - self.dists_mean) / self.dists_std\n",
    "        return normalized_scores\n"
   ]
  },
  {
   "cell_type": "code",
   "execution_count": 4,
   "metadata": {},
   "outputs": [
    {
     "name": "stderr",
     "output_type": "stream",
     "text": [
      "Failed to detect the name of this notebook, you can set it manually with the WANDB_NOTEBOOK_NAME environment variable to enable code saving.\n"
     ]
    },
    {
     "name": "stderr",
     "output_type": "stream",
     "text": [
      "\u001b[34m\u001b[1mwandb\u001b[0m: Currently logged in as: \u001b[33mkobejean\u001b[0m (\u001b[33maizu-nerf\u001b[0m). Use \u001b[1m`wandb login --relogin`\u001b[0m to force relogin\n"
     ]
    },
    {
     "data": {
      "text/html": [
       "Tracking run with wandb version 0.16.3"
      ],
      "text/plain": [
       "<IPython.core.display.HTML object>"
      ]
     },
     "metadata": {},
     "output_type": "display_data"
    },
    {
     "data": {
      "text/html": [
       "Run data is saved locally in <code>/home/ccl/Code/nerf-qa/wandb/run-20240217_000026-hhv9dw0h</code>"
      ],
      "text/plain": [
       "<IPython.core.display.HTML object>"
      ]
     },
     "metadata": {},
     "output_type": "display_data"
    },
    {
     "data": {
      "text/html": [
       "Syncing run <strong><a href='https://wandb.ai/aizu-nerf/nerf-qa/runs/hhv9dw0h' target=\"_blank\">radiant-envelope-15</a></strong> to <a href='https://wandb.ai/aizu-nerf/nerf-qa' target=\"_blank\">Weights & Biases</a> (<a href='https://wandb.me/run' target=\"_blank\">docs</a>)<br/>"
      ],
      "text/plain": [
       "<IPython.core.display.HTML object>"
      ]
     },
     "metadata": {},
     "output_type": "display_data"
    },
    {
     "data": {
      "text/html": [
       " View project at <a href='https://wandb.ai/aizu-nerf/nerf-qa' target=\"_blank\">https://wandb.ai/aizu-nerf/nerf-qa</a>"
      ],
      "text/plain": [
       "<IPython.core.display.HTML object>"
      ]
     },
     "metadata": {},
     "output_type": "display_data"
    },
    {
     "data": {
      "text/html": [
       " View run at <a href='https://wandb.ai/aizu-nerf/nerf-qa/runs/hhv9dw0h' target=\"_blank\">https://wandb.ai/aizu-nerf/nerf-qa/runs/hhv9dw0h</a>"
      ],
      "text/plain": [
       "<IPython.core.display.HTML object>"
      ]
     },
     "metadata": {},
     "output_type": "display_data"
    },
    {
     "name": "stdout",
     "output_type": "stream",
     "text": [
      "Fold 1/8\n",
      "Fold Stats: MOS (2.9460675, 1.0108160114069558) DISTS (0.1080630695174138, 0.05652211786027942)\n"
     ]
    },
    {
     "name": "stderr",
     "output_type": "stream",
     "text": [
      "/home/ccl/anaconda3/envs/nerf-qa/lib/python3.10/site-packages/torchvision/models/_utils.py:208: UserWarning: The parameter 'pretrained' is deprecated since 0.13 and may be removed in the future, please use 'weights' instead.\n",
      "  warnings.warn(\n",
      "/home/ccl/anaconda3/envs/nerf-qa/lib/python3.10/site-packages/torchvision/models/_utils.py:223: UserWarning: Arguments other than a weight enum or `None` for 'weights' are deprecated since 0.13 and may be removed in the future. The current behavior is equivalent to passing `weights=VGG16_Weights.IMAGENET1K_V1`. You can also use `weights=VGG16_Weights.DEFAULT` to get the most up-to-date weights.\n",
      "  warnings.warn(msg)\n",
      "/home/ccl/anaconda3/envs/nerf-qa/lib/python3.10/site-packages/torch/nn/modules/loss.py:535: UserWarning: Using a target size (torch.Size([])) that is different to the input size (torch.Size([1])). This will likely lead to incorrect results due to broadcasting. Please ensure they have the same size.\n",
      "  return F.mse_loss(input, target, reduction=self.reduction)\n"
     ]
    },
    {
     "name": "stdout",
     "output_type": "stream",
     "text": [
      "normalized scores: -0.6653708219528198 -0.09004860371351242\n",
      "normalized scores: 0.5071471929550171 0.08984322845935822\n",
      "normalized scores: 0.8732870221138 0.21695443987846375\n",
      "normalized scores: 0.52683424949646 0.03394448012113571\n",
      "normalized scores: 1.387524962425232 1.0153530836105347\n",
      "normalized scores: 0.4404684007167816 0.9531010985374451\n",
      "normalized scores: -1.353824496269226 -1.8891092538833618\n",
      "normalized scores: 0.9242359399795532 -0.3183012306690216\n",
      "normalized scores: -1.558510661125183 -1.6944804191589355\n",
      "normalized scores: 0.877738893032074 0.8796359896659851\n",
      "normalized scores: 0.37487781047821045 0.4416847229003906\n",
      "normalized scores: 1.4264044761657715 1.3944883346557617\n",
      "normalized scores: -1.4700672626495361 -0.18274003267288208\n",
      "normalized scores: -0.8767842054367065 -0.19497105479240417\n",
      "normalized scores: -0.5009492039680481 -0.7245040535926819\n",
      "normalized scores: 0.6589057445526123 1.318225622177124\n",
      "normalized scores: 0.3492549657821655 0.53061842918396\n",
      "normalized scores: 0.7720816731452942 0.7284087538719177\n",
      "normalized scores: 1.6754112243652344 1.3303993940353394\n",
      "normalized scores: -0.5892937183380127 -0.44732916355133057\n",
      "normalized scores: 1.243977665901184 1.367032527923584\n",
      "normalized scores: 0.2616029977798462 1.1303373575210571\n",
      "normalized scores: 1.6225826740264893 1.5017122030258179\n",
      "normalized scores: 0.292172372341156 -0.1276632398366928\n",
      "normalized scores: -1.1557667255401611 -0.18917609751224518\n",
      "normalized scores: 1.4259098768234253 1.294540286064148\n",
      "normalized scores: 0.095598503947258 0.039034951478242874\n",
      "normalized scores: -0.9359443187713623 -1.38503897190094\n",
      "normalized scores: 0.7157905101776123 1.4423185586929321\n",
      "normalized scores: -0.9781874418258667 -0.7328357696533203\n",
      "normalized scores: -1.0200347900390625 -0.3157725930213928\n",
      "normalized scores: -0.4877915382385254 -0.2877514958381653\n",
      "normalized scores: -1.3958697319030762 -0.12982918322086334\n",
      "normalized scores: -1.2238305807113647 -0.8568310141563416\n",
      "normalized scores: -1.696913719177246 -0.35142797231674194\n",
      "normalized scores: -0.6484538316726685 0.4090058207511902\n",
      "normalized scores: 0.3859579861164093 1.4526242017745972\n",
      "normalized scores: 0.47855642437934875 0.5223541259765625\n",
      "normalized scores: 0.2702099084854126 -0.41594362258911133\n",
      "normalized scores: -1.0289385318756104 -1.1229904890060425\n"
     ]
    }
   ],
   "source": [
    "# Read the CSV file\n",
    "scores_df = pd.read_csv(SCORE_FILE)\n",
    "\n",
    "loss_fn = nn.MSELoss()\n",
    "\n",
    "\n",
    "# Initialize a new run with wandb\n",
    "wandb.init(project='nerf-qa', config={\n",
    "    \"seed\": 42,\n",
    "    \"resize\": True,\n",
    "    \"epochs\": 200,\n",
    "    \"batch_size\": 4,\n",
    "    \"forward_batch_size\": 64,\n",
    "    \"optimizer\": {\n",
    "        \"type\": \"adam\",\n",
    "        \"lr\": 1e-5,\n",
    "        \"eps\": 1e-8,\n",
    "        \"beta1\": 0.9,\n",
    "        \"beta2\": 0.999,\n",
    "    },\n",
    "})\n",
    "config = wandb.config\n",
    "\n",
    "# Number of splits for GroupKFold\n",
    "unique_references_count = scores_df['reference_filename'].nunique()\n",
    "num_folds = min(unique_references_count, 8)\n",
    "\n",
    "# Example function to load a video and process it frame by frame\n",
    "def load_video_frames(video_path):\n",
    "    cap = cv2.VideoCapture(video_path)\n",
    "    frames = []\n",
    "    while cap.isOpened():\n",
    "        ret, frame = cap.read()\n",
    "        if not ret:\n",
    "            break\n",
    "        # Convert frame to RGB (from BGR) and then to tensor\n",
    "        frame = cv2.cvtColor(frame, cv2.COLOR_BGR2RGB)\n",
    "        frame = torch.from_numpy(frame).permute(2, 0, 1).float() / 255.0\n",
    "        frame = transforms.ToPILImage()(frame)\n",
    "        frame = prepare_image(frame, resize=config.resize).squeeze(0)\n",
    "        frames.append(frame)\n",
    "    cap.release()\n",
    "    return torch.stack(frames)\n",
    "\n",
    "# Batch creation function\n",
    "def create_batches(frames, forward_batch_size):\n",
    "    # Create a dataset and dataloader for efficient batching\n",
    "    dataset = TensorDataset(frames)\n",
    "    dataloader = DataLoader(dataset, batch_size=forward_batch_size, shuffle=False)\n",
    "    return dataloader\n",
    "\n",
    "\n",
    "\n",
    "# Initialize GroupKFold\n",
    "gkf = GroupKFold(n_splits=num_folds)\n",
    "\n",
    "# Extract reference filenames as groups for GroupKFold\n",
    "groups = scores_df['reference_filename'].values\n",
    "\n",
    "global_step = 0\n",
    "plccs = []\n",
    "srccs = []\n",
    "rsmes = []\n",
    "\n",
    "# Group K-Fold Cross-Validation\n",
    "for fold, (train_idx, val_idx) in enumerate(gkf.split(scores_df, groups=groups), 1):\n",
    "    print(f\"Fold {fold}/{num_folds}\")\n",
    "    \n",
    "    # Split the data into training and validation sets\n",
    "    train_df = scores_df.iloc[train_idx]\n",
    "    val_df = scores_df.iloc[val_idx]\n",
    "\n",
    "    # Shuffle train_df with random seed\n",
    "    train_df = train_df.sample(frac=1, random_state=config.seed).reset_index(drop=True)\n",
    "\n",
    "    # Compute the mean and standard deviation for MOS and DISTS columns\n",
    "    mos_mean = train_df['MOS'].mean()\n",
    "    mos_std = train_df['MOS'].std()\n",
    "    dists_mean = train_df['DISTS'].mean()\n",
    "    dists_std = train_df['DISTS'].std()\n",
    "    print(f\"Fold Stats: MOS ({mos_mean}, {mos_std}) DISTS ({dists_mean}, {dists_std})\")\n",
    "    \n",
    "    # Reset model and optimizer for each fold (if you want to start fresh for each fold)\n",
    "    model = VQAModel(dists_mean=dists_mean, dists_std=dists_std).to(device)\n",
    "    betas = (config.optimizer['beta1'], config.optimizer['beta2'])\n",
    "    optimizer = optim.Adam(model.parameters(), lr=config.optimizer['lr'], betas=betas, eps=config.optimizer['eps'])\n",
    "    \n",
    "    train_size = train_df.shape[0]\n",
    "    val_size = val_df.shape[0]\n",
    "\n",
    "    # Training loop\n",
    "    for epoch in range(wandb.config.epochs):\n",
    "        model.train()  # Set model to training mode\n",
    "        total_loss = 0\n",
    "        batch_loss = 0\n",
    "        optimizer.zero_grad()  # Initialize gradients to zero at the start of each epoch\n",
    "\n",
    "        for index, (i, row) in enumerate(train_df.iterrows(), 1):  # Start index from 1 for easier modulus operation\n",
    "            # Load frames\n",
    "            dist_video_path = path.join(SYN_DIR, row['distorted_filename'])\n",
    "            ref_video_path = path.join(REF_DIR, row['reference_filename'])\n",
    "            ref = load_video_frames(ref_video_path)\n",
    "            dist = load_video_frames(dist_video_path)\n",
    "            ref = create_batches(ref, config.forward_batch_size)\n",
    "            dist = create_batches(dist, config.forward_batch_size)\n",
    "            \n",
    "            # Compute score\n",
    "            predicted_score = model(ref, dist)\n",
    "            \n",
    "            # Normalize scores\n",
    "            target_score_normalized = torch.tensor((row['MOS'] - mos_mean) / mos_std, device=device, dtype=torch.float32)\n",
    "            \n",
    "            # Compute loss\n",
    "            loss = loss_fn(predicted_score, target_score_normalized)\n",
    "            \n",
    "            # Accumulate gradients\n",
    "            loss.backward()\n",
    "            total_loss += loss.item()\n",
    "            batch_loss += loss.item()\n",
    "            print(\"normalized scores:\", target_score_normalized.item(), predicted_score.item())\n",
    "            \n",
    "            if index % config.batch_size == 0 or index == train_size:\n",
    "\n",
    "                # Scale gradients\n",
    "                accumulation_steps = ((index-1) % config.batch_size) + 1\n",
    "                global_step += accumulation_steps\n",
    "                for param in model.parameters():\n",
    "                    if param.grad is not None:\n",
    "                        param.grad /= accumulation_steps\n",
    "                \n",
    "                # Update parameters every batch_size steps or on the last iteration\n",
    "                optimizer.step()\n",
    "                optimizer.zero_grad()  # Zero the gradients after updating\n",
    "                average_batch_loss = batch_loss / config.batch_size\n",
    "                wandb.log({\n",
    "                    \"Train Metrics Dict/batch_loss\": average_batch_loss,\n",
    "                    \"Train Metrics Dict/rmse\": np.sqrt(average_batch_loss),\n",
    "                    }, step=global_step)\n",
    "                batch_loss = 0\n",
    "        \n",
    "        # Validation step\n",
    "        model.eval()  # Set model to evaluation mode\n",
    "        with torch.no_grad():\n",
    "            eval_loss = 0\n",
    "            all_rmse = []\n",
    "            all_target_scores = []  # List to store all target scores\n",
    "            all_predicted_scores = []  # List to store all predicted scores\n",
    "\n",
    "            for index, row in val_df.iterrows():\n",
    "                # Load frames\n",
    "                dist_video_path = path.join(SYN_DIR, row['distorted_filename'])\n",
    "                ref_video_path = path.join(REF_DIR, row['reference_filename'])\n",
    "                ref = load_video_frames(ref_video_path)\n",
    "                dist = load_video_frames(dist_video_path)\n",
    "                ref = create_batches(ref, config.forward_batch_size)\n",
    "                dist = create_batches(dist, config.forward_batch_size)\n",
    "                \n",
    "                # Compute score\n",
    "                predicted_score = model(ref, dist)\n",
    "                all_predicted_scores.append(float(predicted_score.item()))\n",
    "                \n",
    "                # Normalize scores\n",
    "                target_score_normalized = torch.tensor((row['MOS'] - mos_mean) / mos_std, device=device, dtype=torch.float32)\n",
    "                all_target_scores.append(float(target_score_normalized.item()))\n",
    "                \n",
    "                # Compute loss\n",
    "                loss = loss_fn(predicted_score, target_score_normalized)\n",
    "                eval_loss += loss.item()\n",
    "                all_rmse.append(float(np.sqrt(loss.item())))\n",
    "\n",
    "            \n",
    "            # Convert lists to arrays for correlation computation\n",
    "            all_target_scores = np.array(all_target_scores)\n",
    "            all_predicted_scores = np.array(all_predicted_scores)\n",
    "            \n",
    "            # Compute PLCC and SRCC\n",
    "            plcc = pearsonr(all_target_scores, all_predicted_scores)[0]\n",
    "            srcc = spearmanr(all_target_scores, all_predicted_scores)[0]\n",
    "            \n",
    "            # Average loss over validation set\n",
    "            eval_loss /= len(val_df)\n",
    "            rsme = np.mean(all_rmse)\n",
    "\n",
    "            if epoch == wandb.config.epochs-1:\n",
    "                # last epoch\n",
    "                plccs.append(float(plcc))\n",
    "                srccs.append(float(srcc))\n",
    "                rsmes.append(float(rsme))\n",
    "\n",
    "            # Log to wandb\n",
    "            wandb.log({\n",
    "                \"Eval Metrics Dict/batch_loss\": eval_loss,\n",
    "                \"Eval Metrics Dict/rmse\": rsme,\n",
    "                \"Eval Metrics Dict/rmse_hist\": wandb.Histogram(np.array(all_rmse)),\n",
    "                \"Eval Metrics Dict/plcc\": plcc,\n",
    "                \"Eval Metrics Dict/srcc\": srcc,\n",
    "            }, step=global_step)\n",
    "\n",
    "            \n",
    "        # Logging the average loss\n",
    "        average_loss = total_loss / len(scores_df)\n",
    "        print(f\"Epoch {epoch+1}, Average Loss: {average_loss}\")\n",
    "        wandb.log({ \"Train Metrics Dict/total_loss\": average_batch_loss }, step=global_step)\n",
    "\n",
    "weighted_score = -1.0 * np.mean(rsmes) + 1.0 * np.mean(plccs) + 1.0 * np.mean(srccs)\n",
    "# Log to wandb\n",
    "wandb.log({\n",
    "    \"Eval Metrics Dict/weighted_score_cv_mean\": weighted_score,\n",
    "    \"Eval Metrics Dict/rmse_cv_mean\": np.mean(rsmes),\n",
    "    \"Eval Metrics Dict/rmse_cv_std\": np.std(rsmes),\n",
    "    \"Eval Metrics Dict/rmse_cv_hist\": wandb.Histogram(np.array(rsmes)),\n",
    "    \"Eval Metrics Dict/plcc_cv_mean\": np.mean(plccs),\n",
    "    \"Eval Metrics Dict/plcc_cv_std\": np.std(plccs),\n",
    "    \"Eval Metrics Dict/plcc_cv_hist\": wandb.Histogram(np.array(plccs)),\n",
    "    \"Eval Metrics Dict/srcc_cv_mean\": np.mean(srccs),\n",
    "    \"Eval Metrics Dict/srcc_cv_std\": np.std(srccs),\n",
    "    \"Eval Metrics Dict/srcc_cv_hist\": wandb.Histogram(np.array(srccs)),\n",
    "}, step=global_step)\n",
    "\n"
   ]
  },
  {
   "cell_type": "code",
   "execution_count": null,
   "metadata": {},
   "outputs": [
    {
     "name": "stderr",
     "output_type": "stream",
     "text": [
      "wandb: WARNING Source type is set to 'repo' but some required information is missing from the environment. A job will not be created from this run. See https://docs.wandb.ai/guides/launch/create-job\n"
     ]
    },
    {
     "data": {
      "text/html": [
       "<style>\n",
       "    table.wandb td:nth-child(1) { padding: 0 10px; text-align: left ; width: auto;} td:nth-child(2) {text-align: left ; width: 100%}\n",
       "    .wandb-row { display: flex; flex-direction: row; flex-wrap: wrap; justify-content: flex-start; width: 100% }\n",
       "    .wandb-col { display: flex; flex-direction: column; flex-basis: 100%; flex: 1; padding: 10px; }\n",
       "    </style>\n",
       "<div class=\"wandb-row\"><div class=\"wandb-col\"><h3>Run history:</h3><br/><table class=\"wandb\"><tr><td>Eval Metrics Dict/batch_loss</td><td>▅█▇▁</td></tr><tr><td>Eval Metrics Dict/plcc</td><td>█▇▃▁</td></tr><tr><td>Eval Metrics Dict/plcc_cv_mean</td><td>▁</td></tr><tr><td>Eval Metrics Dict/plcc_cv_std</td><td>▁</td></tr><tr><td>Eval Metrics Dict/rmse</td><td>▆█▅▁</td></tr><tr><td>Eval Metrics Dict/rmse_cv_mean</td><td>▁</td></tr><tr><td>Eval Metrics Dict/rmse_cv_std</td><td>▁</td></tr><tr><td>Eval Metrics Dict/srcc</td><td>█▁█▆</td></tr><tr><td>Eval Metrics Dict/srcc_cv_mean</td><td>▁</td></tr><tr><td>Eval Metrics Dict/srcc_cv_std</td><td>▁</td></tr><tr><td>Eval Metrics Dict/weighted_score_cv_mean</td><td>▁</td></tr><tr><td>Train Metrics Dict/batch_loss</td><td>█▁▂▄</td></tr><tr><td>Train Metrics Dict/rmse</td><td>█▁▃▄</td></tr><tr><td>Train Metrics Dict/total_loss</td><td>█▁▂▄</td></tr></table><br/></div><div class=\"wandb-col\"><h3>Run summary:</h3><br/><table class=\"wandb\"><tr><td>Eval Metrics Dict/batch_loss</td><td>0.63753</td></tr><tr><td>Eval Metrics Dict/plcc</td><td>0.81039</td></tr><tr><td>Eval Metrics Dict/plcc_cv_mean</td><td>0.84049</td></tr><tr><td>Eval Metrics Dict/plcc_cv_std</td><td>0.0301</td></tr><tr><td>Eval Metrics Dict/rmse</td><td>0.60563</td></tr><tr><td>Eval Metrics Dict/rmse_cv_mean</td><td>0.74944</td></tr><tr><td>Eval Metrics Dict/rmse_cv_std</td><td>0.14381</td></tr><tr><td>Eval Metrics Dict/srcc</td><td>0.8087</td></tr><tr><td>Eval Metrics Dict/srcc_cv_mean</td><td>0.79696</td></tr><tr><td>Eval Metrics Dict/srcc_cv_std</td><td>0.01174</td></tr><tr><td>Eval Metrics Dict/weighted_score_cv_mean</td><td>0.88801</td></tr><tr><td>Train Metrics Dict/batch_loss</td><td>0.32357</td></tr><tr><td>Train Metrics Dict/rmse</td><td>0.56883</td></tr><tr><td>Train Metrics Dict/total_loss</td><td>0.32357</td></tr></table><br/></div></div>"
      ],
      "text/plain": [
       "<IPython.core.display.HTML object>"
      ]
     },
     "metadata": {},
     "output_type": "display_data"
    },
    {
     "data": {
      "text/html": [
       " View run <strong style=\"color:#cdcd00\">alight-peony-14</strong> at: <a href='https://wandb.ai/aizu-nerf/nerf-qa/runs/tlz23t9k' target=\"_blank\">https://wandb.ai/aizu-nerf/nerf-qa/runs/tlz23t9k</a><br/>Synced 5 W&B file(s), 0 media file(s), 0 artifact file(s) and 0 other file(s)"
      ],
      "text/plain": [
       "<IPython.core.display.HTML object>"
      ]
     },
     "metadata": {},
     "output_type": "display_data"
    },
    {
     "data": {
      "text/html": [
       "Find logs at: <code>./wandb/run-20240216_234620-tlz23t9k/logs</code>"
      ],
      "text/plain": [
       "<IPython.core.display.HTML object>"
      ]
     },
     "metadata": {},
     "output_type": "display_data"
    }
   ],
   "source": [
    "wandb.log({\n",
    "    \"Eval Metrics Dict/rmse_cv_mean\": np.mean(rsmes),\n",
    "    \"Eval Metrics Dict/plcc_cv_mean\": np.mean(plccs),\n",
    "    \"Eval Metrics Dict/srcc_cv_mean\": np.mean(srccs),\n",
    "}, step=global_step)\n",
    "\n",
    "wandb.finish()"
   ]
  },
  {
   "cell_type": "code",
   "execution_count": null,
   "metadata": {},
   "outputs": [],
   "source": []
  }
 ],
 "metadata": {
  "kernelspec": {
   "display_name": "nerf-qa",
   "language": "python",
   "name": "python3"
  },
  "language_info": {
   "codemirror_mode": {
    "name": "ipython",
    "version": 3
   },
   "file_extension": ".py",
   "mimetype": "text/x-python",
   "name": "python",
   "nbconvert_exporter": "python",
   "pygments_lexer": "ipython3",
   "version": "3.10.0"
  }
 },
 "nbformat": 4,
 "nbformat_minor": 2
}
